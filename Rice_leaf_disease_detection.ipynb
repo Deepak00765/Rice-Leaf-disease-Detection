{
 "cells": [
  {
   "cell_type": "code",
   "execution_count": 4,
   "id": "e27d0d33-a6ab-4fc6-ac9b-4b136482523f",
   "metadata": {},
   "outputs": [],
   "source": [
    "import os\n",
    "import numpy as np\n",
    "import matplotlib.pyplot as plt\n",
    "import seaborn as sns\n",
    "import cv2\n",
    "from glob import glob\n",
    "from PIL import Image\n",
    "from tensorflow.keras.optimizers import Adam\n",
    "import tensorflow as tf\n",
    "from tensorflow.keras.preprocessing.image import ImageDataGenerator\n",
    "from tensorflow.keras.models import Sequential\n",
    "from tensorflow.keras.layers import Conv2D, MaxPooling2D, Flatten, Dense, Dropout\n",
    "from tensorflow.keras.optimizers import Adam\n",
    "from tensorflow.keras.callbacks import EarlyStopping\n",
    "# from sklearn.metrics import confusion_matrix, classification_report\n",
    "import warnings\n",
    "warnings.filterwarnings('ignore')"
   ]
  },
  {
   "cell_type": "code",
   "execution_count": 5,
   "id": "8b2bef4b-2209-4f77-ac27-17663f76ad97",
   "metadata": {},
   "outputs": [],
   "source": [
    "import pandas as pd\n",
    "import matplotlib.pyplot as plt\n",
    "from matplotlib.image import imread\n",
    "import cv2\n",
    "import random\n",
    "import os\n",
    "from os import listdir\n",
    "from PIL import Image\n",
    "import tensorflow as tf\n",
    "from keras.preprocessing import image\n",
    "from tensorflow. keras.utils import img_to_array, array_to_img\n",
    "from keras.optimizers import Adam\n",
    "from keras.models import Sequential\n",
    "from keras.layers import Conv2D, MaxPooling2D, BatchNormalization\n",
    "from keras.layers import Activation, Flatten, Dropout, Dense\n",
    "from sklearn. model_selection import train_test_split\n",
    "from keras.models import model_from_json\n",
    "from tensorflow.keras.utils import to_categorical"
   ]
  },
  {
   "cell_type": "code",
   "execution_count": 6,
   "id": "4a7e956d-e533-4525-9105-ce03a38e83fa",
   "metadata": {},
   "outputs": [],
   "source": [
    "import numpy as np\n",
    "import tensorflow as tf\n",
    "from tensorflow.keras.applications import VGG19\n",
    "from tensorflow.keras.preprocessing.image import ImageDataGenerator\n",
    "from tensorflow.keras.layers import Dense, Flatten, Dropout\n",
    "from tensorflow.keras.models import Model\n",
    "from sklearn.model_selection import train_test_split\n",
    "from tensorflow.keras.utils import to_categorical\n",
    "from tensorflow.keras.optimizers import Adam\n",
    "from tensorflow.keras.callbacks import ModelCheckpoint, ReduceLROnPlateau\n",
    "from sklearn.metrics import confusion_matrix, classification_report\n",
    "import os\n",
    "import cv2\n",
    "import matplotlib.pyplot as plt\n",
    "import seaborn as sns"
   ]
  },
  {
   "cell_type": "markdown",
   "id": "bfdc103e-5e99-4be8-9546-7368111bb04e",
   "metadata": {},
   "source": [
    "# Generating a image"
   ]
  },
  {
   "cell_type": "raw",
   "id": "4c4b2e3a-38a6-4f93-9cc9-b5c80bf503aa",
   "metadata": {},
   "source": [
    "from tensorflow.keras.preprocessing.image import ImageDataGenerator, array_to_img, img_to_array, load_img\n",
    "import os\n",
    "\n",
    "# Define paths\n",
    "input_image_path = r\"C:\\Users\\stiev\\Internship Datamites Proj\\Data\\Leaf smut\\DSC_0510.jpg\"  # Select an image from the class with 39 images\n",
    "output_folder = (r\"C:\\Users\\stiev\\Internship Datamites Proj\\Data\\Leaf smut\")  # Folder to save new images\n",
    "\n",
    "# Create the directory if it doesn't exist\n",
    "os.makedirs(output_folder, exist_ok=True)\n",
    "\n",
    "# Load and preprocess the image\n",
    "img = load_img(input_image_path)  # Load image\n",
    "img_array = img_to_array(img)  # Convert to array\n",
    "img_array = img_array.reshape((1,) + img_array.shape)  # Reshape for generator\n",
    "\n",
    "# Define augmentation parameters\n",
    "datagen = ImageDataGenerator(\n",
    "    rotation_range=30,  # Rotate up to 30 degrees\n",
    "    width_shift_range=0.2,  # Shift horizontally\n",
    "    height_shift_range=0.2,  # Shift vertically\n",
    "    shear_range=0.2,  # Shearing transformations\n",
    "    zoom_range=0.2,  # Random zoom\n",
    "    horizontal_flip=True,  # Flip images horizontally\n",
    "    fill_mode='nearest'  # Fill missing pixels\n",
    ")\n",
    "\n",
    "# Generate and save 1 new image (since only 1 is missing)\n",
    "i = 0\n",
    "for batch in datagen.flow(img_array, batch_size=1, save_to_dir=output_folder, save_prefix=\"aug\", save_format=\"jpg\"):\n",
    "    i += 1\n",
    "    if i >= 1:  # Generate only 1 image\n",
    "        break\n",
    "\n"
   ]
  },
  {
   "cell_type": "markdown",
   "id": "08a3b999-3af3-47c1-bf64-7a041d76f5cc",
   "metadata": {},
   "source": [
    "# Image resize"
   ]
  },
  {
   "cell_type": "code",
   "execution_count": 7,
   "id": "cd51f4d4-12ba-41b4-b995-401fa545f473",
   "metadata": {},
   "outputs": [
    {
     "name": "stdout",
     "output_type": "stream",
     "text": [
      "Resized images shape: (120, 229, 229, 3)\n",
      "Labels shape: (120,)\n"
     ]
    }
   ],
   "source": [
    "from PIL import Image\n",
    "import numpy as np\n",
    "import os\n",
    "\n",
    "\n",
    "def resize_image(image_path, target_size=(299, 299)):\n",
    "    img = Image.open(image_path)\n",
    "    img = img.resize(target_size)  # Resize the image\n",
    "    return np.array(img)\n",
    "\n",
    "\n",
    "def load_and_resize_dataset(dataset_path, target_size):\n",
    "    images = []\n",
    "    labels = []\n",
    "    class_names = os.listdir(dataset_path)\n",
    "    \n",
    "    for class_name in class_names:\n",
    "        class_path = os.path.join(dataset_path, class_name)\n",
    "        for image_name in os.listdir(class_path):\n",
    "            image_path = os.path.join(class_path, image_name)\n",
    "            img = resize_image(image_path, target_size)\n",
    "            images.append(img)\n",
    "            labels.append(class_names.index(class_name))\n",
    "    \n",
    "    return np.array(images), np.array(labels)\n",
    "\n",
    "\n",
    "dataset_path = \"C:\\\\Users\\\\stiev\\\\Internship Datamites Proj\\\\Data\"  # Replace with your dataset path\n",
    "target_size = (229, 229)  # Resize to 224x224\n",
    "x, y = load_and_resize_dataset(dataset_path, target_size)\n",
    "\n",
    "\n",
    "print(f\"Resized images shape: {x.shape}\")\n",
    "print(f\"Labels shape: {y.shape}\")"
   ]
  },
  {
   "cell_type": "code",
   "execution_count": 8,
   "id": "243916ba-f312-4fa6-b373-d6fc2037f2c1",
   "metadata": {},
   "outputs": [],
   "source": [
    "\n",
    "x = x.astype('float32') / 255.0"
   ]
  },
  {
   "cell_type": "markdown",
   "id": "f472b115-613d-41a0-a4e1-1638d7dce26e",
   "metadata": {},
   "source": [
    "# parameters"
   ]
  },
  {
   "cell_type": "code",
   "execution_count": 9,
   "id": "35227043-ad8d-4f70-8d3b-a4503e1e1e5d",
   "metadata": {},
   "outputs": [],
   "source": [
    "data_dir = r\"C:\\\\Users\\\\stiev\\\\Internship Datamites Proj\\\\Data\" \n",
    "num_classes = 3\n",
    "img_width, img_height = 299, 299\n",
    "batch_size = 32\n",
    "epochs = 50"
   ]
  },
  {
   "cell_type": "markdown",
   "id": "2d1ce57f-be85-47eb-8ce6-b098f7399027",
   "metadata": {},
   "source": [
    "# Load and Preprocess Images"
   ]
  },
  {
   "cell_type": "code",
   "execution_count": 10,
   "id": "5995678c-d7c8-4c13-83ab-d0f3befef7c0",
   "metadata": {},
   "outputs": [],
   "source": [
    "\n",
    "def load_images_from_folder(folder):\n",
    "    images = []\n",
    "    labels = []\n",
    "    class_names = sorted(os.listdir(folder))\n",
    "    for class_name in class_names:\n",
    "        class_path = os.path.join(folder, class_name)\n",
    "        for filename in os.listdir(class_path):\n",
    "            img_path = os.path.join(class_path, filename)\n",
    "            img = cv2.imread(img_path)\n",
    "            img = cv2.resize(img, (img_width, img_height))\n",
    "            img = img.astype('float32') / 255.0\n",
    "            images.append(img)\n",
    "            labels.append(class_names.index(class_name))\n",
    "    return np.array(images), np.array(labels)\n",
    "\n",
    "\n",
    "X, y = load_images_from_folder(data_dir)\n",
    "\n",
    "y = to_categorical(y, num_classes)"
   ]
  },
  {
   "cell_type": "markdown",
   "id": "c83c60db-e4eb-435a-94ef-4384e5790208",
   "metadata": {},
   "source": [
    "# Split Dataset"
   ]
  },
  {
   "cell_type": "code",
   "execution_count": 11,
   "id": "8a0e1e6f-cfdc-4ff7-bf95-9321109928e4",
   "metadata": {},
   "outputs": [],
   "source": [
    "X_train, X_test, y_train, y_test = train_test_split(X, y, test_size=0.2, random_state=42)"
   ]
  },
  {
   "cell_type": "markdown",
   "id": "2ca7996d-58d4-48aa-b27e-f4fea6b1e9c6",
   "metadata": {},
   "source": [
    "# Data Augmentation"
   ]
  },
  {
   "cell_type": "code",
   "execution_count": 12,
   "id": "d78353fc-2717-4cb7-849b-83a195e74692",
   "metadata": {},
   "outputs": [],
   "source": [
    "train_datagen = ImageDataGenerator(\n",
    "    rotation_range=20,\n",
    "    width_shift_range=0.2,\n",
    "    height_shift_range=0.2,\n",
    "    shear_range=0.2,\n",
    "    zoom_range=0.2,\n",
    "    horizontal_flip=True,\n",
    "    fill_mode='nearest'\n",
    ")\n",
    "\n",
    "train_datagen.fit(X_train)"
   ]
  },
  {
   "cell_type": "code",
   "execution_count": 13,
   "id": "1fc3de60-3af4-4000-a4da-5b1ad2521488",
   "metadata": {},
   "outputs": [],
   "source": [
    "import tensorflow.keras.backend as K\n",
    "\n",
    "def focal_loss(alpha=0.25, gamma=2.0):\n",
    "    def loss(y_true, y_pred):\n",
    "        y_pred = K.clip(y_pred, 1e-7, 1 - 1e-7)  # Prevent log(0) errors\n",
    "        ce = -y_true * K.log(y_pred)  # Cross-entropy loss\n",
    "        weight = alpha * K.pow(1 - y_pred, gamma)  # Focusing factor\n",
    "        return K.mean(weight * ce)  \n",
    "    return loss"
   ]
  },
  {
   "cell_type": "markdown",
   "id": "c9264cd6-8bbd-44a1-a230-e953d7a89a4f",
   "metadata": {},
   "source": [
    "# VGG19 Model"
   ]
  },
  {
   "cell_type": "code",
   "execution_count": 14,
   "id": "f119c3f9-7e56-41fb-8121-a8b7af1f5554",
   "metadata": {},
   "outputs": [],
   "source": [
    "from tensorflow.keras.applications import VGG19\n",
    "from tensorflow.keras.models import Model\n",
    "\n",
    "base_model = VGG19(weights='imagenet', include_top=False, input_shape=(img_width, img_height, 3))\n",
    "\n",
    "base_model.trainable = False\n",
    "\n",
    "\n",
    "x = base_model.output\n",
    "x = Flatten()(x)\n",
    "x = Dense(512, activation='relu')(x)\n",
    "x = Dropout(0.5)(x)\n",
    "predictions = Dense(num_classes, activation='softmax')(x)\n",
    "\n",
    "model = Model(inputs=base_model.input, outputs=predictions)"
   ]
  },
  {
   "cell_type": "markdown",
   "id": "06f8fde9-d675-425d-8b08-8a6192a8a739",
   "metadata": {},
   "source": [
    "# Compile"
   ]
  },
  {
   "cell_type": "code",
   "execution_count": 15,
   "id": "d3bbb0f1-057a-47e5-96a4-bfb53ab21054",
   "metadata": {},
   "outputs": [],
   "source": [
    "model.compile(optimizer=Adam(learning_rate=0.000001), loss=focal_loss(alpha=0.25, gamma=2.0), metrics=['accuracy'])"
   ]
  },
  {
   "cell_type": "markdown",
   "id": "80502997-c855-48b3-b4d0-085a6a38e6a8",
   "metadata": {},
   "source": [
    "# Callbacks"
   ]
  },
  {
   "cell_type": "code",
   "execution_count": 16,
   "id": "84f1c3aa-2c7c-4932-87bb-4fba917923e3",
   "metadata": {},
   "outputs": [],
   "source": [
    "# Callbacks\n",
    "from tensorflow.keras.callbacks import ModelCheckpoint, ReduceLROnPlateau\n",
    "\n",
    "checkpoint = ModelCheckpoint('vgg19_rice_classifier.h5', monitor='val_accuracy', save_best_only=True, mode='max', verbose=1)\n",
    "reduce_lr = ReduceLROnPlateau(monitor='val_loss', factor=0.2, patience=5, min_lr=0.00001, verbose=1)"
   ]
  },
  {
   "cell_type": "markdown",
   "id": "1d07edee-c5a1-4548-a291-fcf7e029e8d1",
   "metadata": {},
   "source": [
    "# Train the model"
   ]
  },
  {
   "cell_type": "code",
   "execution_count": 17,
   "id": "b2bf33b4-bf4b-4f6c-88e0-39a183fccbea",
   "metadata": {},
   "outputs": [
    {
     "name": "stdout",
     "output_type": "stream",
     "text": [
      "Epoch 1/75\n",
      "\u001b[1m3/3\u001b[0m \u001b[32m━━━━━━━━━━━━━━━━━━━━\u001b[0m\u001b[37m\u001b[0m \u001b[1m0s\u001b[0m 11s/step - accuracy: 0.3524 - loss: 0.0938 \n",
      "Epoch 1: val_accuracy improved from -inf to 0.41667, saving model to vgg19_rice_classifier.h5\n"
     ]
    },
    {
     "name": "stderr",
     "output_type": "stream",
     "text": [
      "WARNING:absl:You are saving your model as an HDF5 file via `model.save()` or `keras.saving.save_model(model)`. This file format is considered legacy. We recommend using instead the native Keras format, e.g. `model.save('my_model.keras')` or `keras.saving.save_model(model, 'my_model.keras')`. \n"
     ]
    },
    {
     "name": "stdout",
     "output_type": "stream",
     "text": [
      "\u001b[1m3/3\u001b[0m \u001b[32m━━━━━━━━━━━━━━━━━━━━\u001b[0m\u001b[37m\u001b[0m \u001b[1m44s\u001b[0m 15s/step - accuracy: 0.3529 - loss: 0.0914 - val_accuracy: 0.4167 - val_loss: 0.0477 - learning_rate: 1.0000e-06\n",
      "Epoch 2/75\n",
      "\u001b[1m3/3\u001b[0m \u001b[32m━━━━━━━━━━━━━━━━━━━━\u001b[0m\u001b[37m\u001b[0m \u001b[1m0s\u001b[0m 10s/step - accuracy: 0.2604 - loss: 0.0871 \n",
      "Epoch 2: val_accuracy did not improve from 0.41667\n",
      "\u001b[1m3/3\u001b[0m \u001b[32m━━━━━━━━━━━━━━━━━━━━\u001b[0m\u001b[37m\u001b[0m \u001b[1m38s\u001b[0m 14s/step - accuracy: 0.2500 - loss: 0.0868 - val_accuracy: 0.4167 - val_loss: 0.0439 - learning_rate: 1.0000e-06\n",
      "Epoch 3/75\n",
      "\u001b[1m3/3\u001b[0m \u001b[32m━━━━━━━━━━━━━━━━━━━━\u001b[0m\u001b[37m\u001b[0m \u001b[1m0s\u001b[0m 10s/step - accuracy: 0.2726 - loss: 0.0892 \n",
      "Epoch 3: val_accuracy did not improve from 0.41667\n",
      "\u001b[1m3/3\u001b[0m \u001b[32m━━━━━━━━━━━━━━━━━━━━\u001b[0m\u001b[37m\u001b[0m \u001b[1m38s\u001b[0m 14s/step - accuracy: 0.2799 - loss: 0.0877 - val_accuracy: 0.4167 - val_loss: 0.0411 - learning_rate: 1.0000e-06\n",
      "Epoch 4/75\n",
      "\u001b[1m3/3\u001b[0m \u001b[32m━━━━━━━━━━━━━━━━━━━━\u001b[0m\u001b[37m\u001b[0m \u001b[1m0s\u001b[0m 10s/step - accuracy: 0.3490 - loss: 0.0794 \n",
      "Epoch 4: val_accuracy did not improve from 0.41667\n",
      "\u001b[1m3/3\u001b[0m \u001b[32m━━━━━━━━━━━━━━━━━━━━\u001b[0m\u001b[37m\u001b[0m \u001b[1m38s\u001b[0m 14s/step - accuracy: 0.3477 - loss: 0.0781 - val_accuracy: 0.3750 - val_loss: 0.0393 - learning_rate: 1.0000e-06\n",
      "Epoch 5/75\n",
      "\u001b[1m3/3\u001b[0m \u001b[32m━━━━━━━━━━━━━━━━━━━━\u001b[0m\u001b[37m\u001b[0m \u001b[1m0s\u001b[0m 10s/step - accuracy: 0.3194 - loss: 0.0687 \n",
      "Epoch 5: val_accuracy did not improve from 0.41667\n",
      "\u001b[1m3/3\u001b[0m \u001b[32m━━━━━━━━━━━━━━━━━━━━\u001b[0m\u001b[37m\u001b[0m \u001b[1m40s\u001b[0m 14s/step - accuracy: 0.3229 - loss: 0.0684 - val_accuracy: 0.3750 - val_loss: 0.0385 - learning_rate: 1.0000e-06\n",
      "Epoch 6/75\n",
      "\u001b[1m3/3\u001b[0m \u001b[32m━━━━━━━━━━━━━━━━━━━━\u001b[0m\u001b[37m\u001b[0m \u001b[1m0s\u001b[0m 11s/step - accuracy: 0.2743 - loss: 0.0700 \n",
      "Epoch 6: val_accuracy improved from 0.41667 to 0.50000, saving model to vgg19_rice_classifier.h5\n"
     ]
    },
    {
     "name": "stderr",
     "output_type": "stream",
     "text": [
      "WARNING:absl:You are saving your model as an HDF5 file via `model.save()` or `keras.saving.save_model(model)`. This file format is considered legacy. We recommend using instead the native Keras format, e.g. `model.save('my_model.keras')` or `keras.saving.save_model(model, 'my_model.keras')`. \n"
     ]
    },
    {
     "name": "stdout",
     "output_type": "stream",
     "text": [
      "\u001b[1m3/3\u001b[0m \u001b[32m━━━━━━━━━━━━━━━━━━━━\u001b[0m\u001b[37m\u001b[0m \u001b[1m43s\u001b[0m 16s/step - accuracy: 0.2786 - loss: 0.0689 - val_accuracy: 0.5000 - val_loss: 0.0384 - learning_rate: 1.0000e-06\n",
      "Epoch 7/75\n",
      "\u001b[1m3/3\u001b[0m \u001b[32m━━━━━━━━━━━━━━━━━━━━\u001b[0m\u001b[37m\u001b[0m \u001b[1m0s\u001b[0m 10s/step - accuracy: 0.3819 - loss: 0.0527 \n",
      "Epoch 7: val_accuracy improved from 0.50000 to 0.54167, saving model to vgg19_rice_classifier.h5\n"
     ]
    },
    {
     "name": "stderr",
     "output_type": "stream",
     "text": [
      "WARNING:absl:You are saving your model as an HDF5 file via `model.save()` or `keras.saving.save_model(model)`. This file format is considered legacy. We recommend using instead the native Keras format, e.g. `model.save('my_model.keras')` or `keras.saving.save_model(model, 'my_model.keras')`. \n"
     ]
    },
    {
     "name": "stdout",
     "output_type": "stream",
     "text": [
      "\u001b[1m3/3\u001b[0m \u001b[32m━━━━━━━━━━━━━━━━━━━━\u001b[0m\u001b[37m\u001b[0m \u001b[1m42s\u001b[0m 15s/step - accuracy: 0.3854 - loss: 0.0528 - val_accuracy: 0.5417 - val_loss: 0.0388 - learning_rate: 1.0000e-06\n",
      "Epoch 8/75\n",
      "\u001b[1m3/3\u001b[0m \u001b[32m━━━━━━━━━━━━━━━━━━━━\u001b[0m\u001b[37m\u001b[0m \u001b[1m0s\u001b[0m 11s/step - accuracy: 0.3333 - loss: 0.0695 \n",
      "Epoch 8: val_accuracy did not improve from 0.54167\n",
      "\u001b[1m3/3\u001b[0m \u001b[32m━━━━━━━━━━━━━━━━━━━━\u001b[0m\u001b[37m\u001b[0m \u001b[1m42s\u001b[0m 15s/step - accuracy: 0.3281 - loss: 0.0697 - val_accuracy: 0.4167 - val_loss: 0.0393 - learning_rate: 1.0000e-06\n",
      "Epoch 9/75\n",
      "\u001b[1m3/3\u001b[0m \u001b[32m━━━━━━━━━━━━━━━━━━━━\u001b[0m\u001b[37m\u001b[0m \u001b[1m0s\u001b[0m 11s/step - accuracy: 0.4288 - loss: 0.0516 \n",
      "Epoch 9: val_accuracy did not improve from 0.54167\n",
      "\u001b[1m3/3\u001b[0m \u001b[32m━━━━━━━━━━━━━━━━━━━━\u001b[0m\u001b[37m\u001b[0m \u001b[1m41s\u001b[0m 15s/step - accuracy: 0.4284 - loss: 0.0527 - val_accuracy: 0.3750 - val_loss: 0.0400 - learning_rate: 1.0000e-06\n",
      "Epoch 10/75\n",
      "\u001b[1m3/3\u001b[0m \u001b[32m━━━━━━━━━━━━━━━━━━━━\u001b[0m\u001b[37m\u001b[0m \u001b[1m0s\u001b[0m 10s/step - accuracy: 0.3837 - loss: 0.0639 \n",
      "Epoch 10: val_accuracy did not improve from 0.54167\n",
      "\u001b[1m3/3\u001b[0m \u001b[32m━━━━━━━━━━━━━━━━━━━━\u001b[0m\u001b[37m\u001b[0m \u001b[1m40s\u001b[0m 14s/step - accuracy: 0.3763 - loss: 0.0638 - val_accuracy: 0.3333 - val_loss: 0.0407 - learning_rate: 1.0000e-06\n",
      "Epoch 11/75\n",
      "\u001b[1m3/3\u001b[0m \u001b[32m━━━━━━━━━━━━━━━━━━━━\u001b[0m\u001b[37m\u001b[0m \u001b[1m0s\u001b[0m 11s/step - accuracy: 0.3021 - loss: 0.0605 \n",
      "Epoch 11: val_accuracy did not improve from 0.54167\n",
      "\u001b[1m3/3\u001b[0m \u001b[32m━━━━━━━━━━━━━━━━━━━━\u001b[0m\u001b[37m\u001b[0m \u001b[1m41s\u001b[0m 15s/step - accuracy: 0.3047 - loss: 0.0610 - val_accuracy: 0.2500 - val_loss: 0.0414 - learning_rate: 1.0000e-06\n",
      "Epoch 12/75\n",
      "\u001b[1m3/3\u001b[0m \u001b[32m━━━━━━━━━━━━━━━━━━━━\u001b[0m\u001b[37m\u001b[0m \u001b[1m0s\u001b[0m 11s/step - accuracy: 0.2760 - loss: 0.0632 \n",
      "Epoch 12: val_accuracy did not improve from 0.54167\n",
      "\u001b[1m3/3\u001b[0m \u001b[32m━━━━━━━━━━━━━━━━━━━━\u001b[0m\u001b[37m\u001b[0m \u001b[1m42s\u001b[0m 15s/step - accuracy: 0.2773 - loss: 0.0630 - val_accuracy: 0.2500 - val_loss: 0.0420 - learning_rate: 1.0000e-06\n",
      "Epoch 13/75\n",
      "\u001b[1m3/3\u001b[0m \u001b[32m━━━━━━━━━━━━━━━━━━━━\u001b[0m\u001b[37m\u001b[0m \u001b[1m0s\u001b[0m 10s/step - accuracy: 0.3889 - loss: 0.0583 \n",
      "Epoch 13: val_accuracy did not improve from 0.54167\n",
      "\u001b[1m3/3\u001b[0m \u001b[32m━━━━━━━━━━━━━━━━━━━━\u001b[0m\u001b[37m\u001b[0m \u001b[1m40s\u001b[0m 14s/step - accuracy: 0.3724 - loss: 0.0594 - val_accuracy: 0.2083 - val_loss: 0.0420 - learning_rate: 1.0000e-06\n",
      "Epoch 14/75\n",
      "\u001b[1m3/3\u001b[0m \u001b[32m━━━━━━━━━━━━━━━━━━━━\u001b[0m\u001b[37m\u001b[0m \u001b[1m0s\u001b[0m 10s/step - accuracy: 0.2951 - loss: 0.0713 \n",
      "Epoch 14: val_accuracy did not improve from 0.54167\n",
      "\u001b[1m3/3\u001b[0m \u001b[32m━━━━━━━━━━━━━━━━━━━━\u001b[0m\u001b[37m\u001b[0m \u001b[1m39s\u001b[0m 14s/step - accuracy: 0.3099 - loss: 0.0702 - val_accuracy: 0.2500 - val_loss: 0.0413 - learning_rate: 1.0000e-06\n",
      "Epoch 15/75\n",
      "\u001b[1m3/3\u001b[0m \u001b[32m━━━━━━━━━━━━━━━━━━━━\u001b[0m\u001b[37m\u001b[0m \u001b[1m0s\u001b[0m 13s/step - accuracy: 0.2969 - loss: 0.0668 \n",
      "Epoch 15: val_accuracy did not improve from 0.54167\n",
      "\u001b[1m3/3\u001b[0m \u001b[32m━━━━━━━━━━━━━━━━━━━━\u001b[0m\u001b[37m\u001b[0m \u001b[1m47s\u001b[0m 18s/step - accuracy: 0.3008 - loss: 0.0664 - val_accuracy: 0.2917 - val_loss: 0.0403 - learning_rate: 1.0000e-06\n",
      "Epoch 16/75\n",
      "\u001b[1m3/3\u001b[0m \u001b[32m━━━━━━━━━━━━━━━━━━━━\u001b[0m\u001b[37m\u001b[0m \u001b[1m0s\u001b[0m 10s/step - accuracy: 0.3559 - loss: 0.0595 \n",
      "Epoch 16: val_accuracy did not improve from 0.54167\n",
      "\u001b[1m3/3\u001b[0m \u001b[32m━━━━━━━━━━━━━━━━━━━━\u001b[0m\u001b[37m\u001b[0m \u001b[1m38s\u001b[0m 13s/step - accuracy: 0.3581 - loss: 0.0606 - val_accuracy: 0.3333 - val_loss: 0.0396 - learning_rate: 1.0000e-06\n",
      "Epoch 17/75\n",
      "\u001b[1m3/3\u001b[0m \u001b[32m━━━━━━━━━━━━━━━━━━━━\u001b[0m\u001b[37m\u001b[0m \u001b[1m0s\u001b[0m 10s/step - accuracy: 0.3142 - loss: 0.0657 \n",
      "Epoch 17: val_accuracy did not improve from 0.54167\n",
      "\u001b[1m3/3\u001b[0m \u001b[32m━━━━━━━━━━━━━━━━━━━━\u001b[0m\u001b[37m\u001b[0m \u001b[1m39s\u001b[0m 14s/step - accuracy: 0.3112 - loss: 0.0654 - val_accuracy: 0.4167 - val_loss: 0.0385 - learning_rate: 1.0000e-06\n",
      "Epoch 18/75\n",
      "\u001b[1m3/3\u001b[0m \u001b[32m━━━━━━━━━━━━━━━━━━━━\u001b[0m\u001b[37m\u001b[0m \u001b[1m0s\u001b[0m 10s/step - accuracy: 0.3438 - loss: 0.0555 \n",
      "Epoch 18: val_accuracy did not improve from 0.54167\n",
      "\u001b[1m3/3\u001b[0m \u001b[32m━━━━━━━━━━━━━━━━━━━━\u001b[0m\u001b[37m\u001b[0m \u001b[1m38s\u001b[0m 14s/step - accuracy: 0.3438 - loss: 0.0557 - val_accuracy: 0.4167 - val_loss: 0.0377 - learning_rate: 1.0000e-06\n",
      "Epoch 19/75\n",
      "\u001b[1m3/3\u001b[0m \u001b[32m━━━━━━━━━━━━━━━━━━━━\u001b[0m\u001b[37m\u001b[0m \u001b[1m0s\u001b[0m 10s/step - accuracy: 0.3802 - loss: 0.0674 \n",
      "Epoch 19: val_accuracy did not improve from 0.54167\n",
      "\u001b[1m3/3\u001b[0m \u001b[32m━━━━━━━━━━━━━━━━━━━━\u001b[0m\u001b[37m\u001b[0m \u001b[1m38s\u001b[0m 14s/step - accuracy: 0.3789 - loss: 0.0672 - val_accuracy: 0.4167 - val_loss: 0.0369 - learning_rate: 1.0000e-06\n",
      "Epoch 20/75\n",
      "\u001b[1m3/3\u001b[0m \u001b[32m━━━━━━━━━━━━━━━━━━━━\u001b[0m\u001b[37m\u001b[0m \u001b[1m0s\u001b[0m 10s/step - accuracy: 0.3507 - loss: 0.0576 \n",
      "Epoch 20: val_accuracy did not improve from 0.54167\n",
      "\u001b[1m3/3\u001b[0m \u001b[32m━━━━━━━━━━━━━━━━━━━━\u001b[0m\u001b[37m\u001b[0m \u001b[1m38s\u001b[0m 14s/step - accuracy: 0.3542 - loss: 0.0570 - val_accuracy: 0.4583 - val_loss: 0.0364 - learning_rate: 1.0000e-06\n",
      "Epoch 21/75\n",
      "\u001b[1m3/3\u001b[0m \u001b[32m━━━━━━━━━━━━━━━━━━━━\u001b[0m\u001b[37m\u001b[0m \u001b[1m0s\u001b[0m 10s/step - accuracy: 0.4635 - loss: 0.0649 \n",
      "Epoch 21: val_accuracy did not improve from 0.54167\n",
      "\u001b[1m3/3\u001b[0m \u001b[32m━━━━━━━━━━━━━━━━━━━━\u001b[0m\u001b[37m\u001b[0m \u001b[1m38s\u001b[0m 14s/step - accuracy: 0.4492 - loss: 0.0649 - val_accuracy: 0.4583 - val_loss: 0.0358 - learning_rate: 1.0000e-06\n",
      "Epoch 22/75\n",
      "\u001b[1m3/3\u001b[0m \u001b[32m━━━━━━━━━━━━━━━━━━━━\u001b[0m\u001b[37m\u001b[0m \u001b[1m0s\u001b[0m 11s/step - accuracy: 0.3958 - loss: 0.0602 \n",
      "Epoch 22: val_accuracy did not improve from 0.54167\n",
      "\u001b[1m3/3\u001b[0m \u001b[32m━━━━━━━━━━━━━━━━━━━━\u001b[0m\u001b[37m\u001b[0m \u001b[1m40s\u001b[0m 15s/step - accuracy: 0.4062 - loss: 0.0590 - val_accuracy: 0.4583 - val_loss: 0.0354 - learning_rate: 1.0000e-06\n",
      "Epoch 23/75\n",
      "\u001b[1m3/3\u001b[0m \u001b[32m━━━━━━━━━━━━━━━━━━━━\u001b[0m\u001b[37m\u001b[0m \u001b[1m0s\u001b[0m 10s/step - accuracy: 0.3507 - loss: 0.0579 \n",
      "Epoch 23: val_accuracy did not improve from 0.54167\n",
      "\u001b[1m3/3\u001b[0m \u001b[32m━━━━━━━━━━━━━━━━━━━━\u001b[0m\u001b[37m\u001b[0m \u001b[1m39s\u001b[0m 14s/step - accuracy: 0.3385 - loss: 0.0593 - val_accuracy: 0.3750 - val_loss: 0.0352 - learning_rate: 1.0000e-06\n",
      "Epoch 24/75\n",
      "\u001b[1m3/3\u001b[0m \u001b[32m━━━━━━━━━━━━━━━━━━━━\u001b[0m\u001b[37m\u001b[0m \u001b[1m0s\u001b[0m 11s/step - accuracy: 0.3125 - loss: 0.0651 \n",
      "Epoch 24: val_accuracy did not improve from 0.54167\n",
      "\u001b[1m3/3\u001b[0m \u001b[32m━━━━━━━━━━━━━━━━━━━━\u001b[0m\u001b[37m\u001b[0m \u001b[1m42s\u001b[0m 15s/step - accuracy: 0.3203 - loss: 0.0639 - val_accuracy: 0.4167 - val_loss: 0.0350 - learning_rate: 1.0000e-06\n",
      "Epoch 25/75\n",
      "\u001b[1m3/3\u001b[0m \u001b[32m━━━━━━━━━━━━━━━━━━━━\u001b[0m\u001b[37m\u001b[0m \u001b[1m0s\u001b[0m 11s/step - accuracy: 0.3837 - loss: 0.0604 \n",
      "Epoch 25: val_accuracy did not improve from 0.54167\n",
      "\u001b[1m3/3\u001b[0m \u001b[32m━━━━━━━━━━━━━━━━━━━━\u001b[0m\u001b[37m\u001b[0m \u001b[1m41s\u001b[0m 14s/step - accuracy: 0.3763 - loss: 0.0607 - val_accuracy: 0.4583 - val_loss: 0.0346 - learning_rate: 1.0000e-06\n",
      "Epoch 26/75\n",
      "\u001b[1m3/3\u001b[0m \u001b[32m━━━━━━━━━━━━━━━━━━━━\u001b[0m\u001b[37m\u001b[0m \u001b[1m0s\u001b[0m 11s/step - accuracy: 0.4149 - loss: 0.0510 \n",
      "Epoch 26: val_accuracy did not improve from 0.54167\n",
      "\u001b[1m3/3\u001b[0m \u001b[32m━━━━━━━━━━━━━━━━━━━━\u001b[0m\u001b[37m\u001b[0m \u001b[1m41s\u001b[0m 14s/step - accuracy: 0.4232 - loss: 0.0511 - val_accuracy: 0.4583 - val_loss: 0.0342 - learning_rate: 1.0000e-06\n",
      "Epoch 27/75\n",
      "\u001b[1m3/3\u001b[0m \u001b[32m━━━━━━━━━━━━━━━━━━━━\u001b[0m\u001b[37m\u001b[0m \u001b[1m0s\u001b[0m 11s/step - accuracy: 0.2066 - loss: 0.0716 \n",
      "Epoch 27: val_accuracy did not improve from 0.54167\n",
      "\u001b[1m3/3\u001b[0m \u001b[32m━━━━━━━━━━━━━━━━━━━━\u001b[0m\u001b[37m\u001b[0m \u001b[1m42s\u001b[0m 15s/step - accuracy: 0.2201 - loss: 0.0714 - val_accuracy: 0.4583 - val_loss: 0.0339 - learning_rate: 1.0000e-06\n",
      "Epoch 28/75\n",
      "\u001b[1m3/3\u001b[0m \u001b[32m━━━━━━━━━━━━━━━━━━━━\u001b[0m\u001b[37m\u001b[0m \u001b[1m0s\u001b[0m 10s/step - accuracy: 0.5330 - loss: 0.0528 \n",
      "Epoch 28: val_accuracy did not improve from 0.54167\n",
      "\u001b[1m3/3\u001b[0m \u001b[32m━━━━━━━━━━━━━━━━━━━━\u001b[0m\u001b[37m\u001b[0m \u001b[1m39s\u001b[0m 14s/step - accuracy: 0.5143 - loss: 0.0546 - val_accuracy: 0.4583 - val_loss: 0.0336 - learning_rate: 1.0000e-06\n",
      "Epoch 29/75\n",
      "\u001b[1m3/3\u001b[0m \u001b[32m━━━━━━━━━━━━━━━━━━━━\u001b[0m\u001b[37m\u001b[0m \u001b[1m0s\u001b[0m 10s/step - accuracy: 0.3576 - loss: 0.0646 \n",
      "Epoch 29: val_accuracy did not improve from 0.54167\n",
      "\u001b[1m3/3\u001b[0m \u001b[32m━━━━━━━━━━━━━━━━━━━━\u001b[0m\u001b[37m\u001b[0m \u001b[1m39s\u001b[0m 14s/step - accuracy: 0.3646 - loss: 0.0634 - val_accuracy: 0.4583 - val_loss: 0.0334 - learning_rate: 1.0000e-06\n",
      "Epoch 30/75\n",
      "\u001b[1m3/3\u001b[0m \u001b[32m━━━━━━━━━━━━━━━━━━━━\u001b[0m\u001b[37m\u001b[0m \u001b[1m0s\u001b[0m 10s/step - accuracy: 0.2882 - loss: 0.0583 \n",
      "Epoch 30: val_accuracy did not improve from 0.54167\n",
      "\u001b[1m3/3\u001b[0m \u001b[32m━━━━━━━━━━━━━━━━━━━━\u001b[0m\u001b[37m\u001b[0m \u001b[1m39s\u001b[0m 14s/step - accuracy: 0.2995 - loss: 0.0577 - val_accuracy: 0.5000 - val_loss: 0.0331 - learning_rate: 1.0000e-06\n",
      "Epoch 31/75\n",
      "\u001b[1m3/3\u001b[0m \u001b[32m━━━━━━━━━━━━━━━━━━━━\u001b[0m\u001b[37m\u001b[0m \u001b[1m0s\u001b[0m 10s/step - accuracy: 0.4201 - loss: 0.0603 \n",
      "Epoch 31: val_accuracy did not improve from 0.54167\n",
      "\u001b[1m3/3\u001b[0m \u001b[32m━━━━━━━━━━━━━━━━━━━━\u001b[0m\u001b[37m\u001b[0m \u001b[1m38s\u001b[0m 14s/step - accuracy: 0.4193 - loss: 0.0606 - val_accuracy: 0.5000 - val_loss: 0.0328 - learning_rate: 1.0000e-06\n",
      "Epoch 32/75\n",
      "\u001b[1m3/3\u001b[0m \u001b[32m━━━━━━━━━━━━━━━━━━━━\u001b[0m\u001b[37m\u001b[0m \u001b[1m0s\u001b[0m 10s/step - accuracy: 0.3264 - loss: 0.0655 \n",
      "Epoch 32: val_accuracy did not improve from 0.54167\n",
      "\u001b[1m3/3\u001b[0m \u001b[32m━━━━━━━━━━━━━━━━━━━━\u001b[0m\u001b[37m\u001b[0m \u001b[1m38s\u001b[0m 14s/step - accuracy: 0.3333 - loss: 0.0645 - val_accuracy: 0.5000 - val_loss: 0.0326 - learning_rate: 1.0000e-06\n",
      "Epoch 33/75\n",
      "\u001b[1m3/3\u001b[0m \u001b[32m━━━━━━━━━━━━━━━━━━━━\u001b[0m\u001b[37m\u001b[0m \u001b[1m0s\u001b[0m 10s/step - accuracy: 0.3194 - loss: 0.0610 \n",
      "Epoch 33: val_accuracy did not improve from 0.54167\n",
      "\u001b[1m3/3\u001b[0m \u001b[32m━━━━━━━━━━━━━━━━━━━━\u001b[0m\u001b[37m\u001b[0m \u001b[1m38s\u001b[0m 14s/step - accuracy: 0.3307 - loss: 0.0607 - val_accuracy: 0.5417 - val_loss: 0.0323 - learning_rate: 1.0000e-06\n",
      "Epoch 34/75\n",
      "\u001b[1m3/3\u001b[0m \u001b[32m━━━━━━━━━━━━━━━━━━━━\u001b[0m\u001b[37m\u001b[0m \u001b[1m0s\u001b[0m 10s/step - accuracy: 0.4340 - loss: 0.0542 \n",
      "Epoch 34: val_accuracy did not improve from 0.54167\n",
      "\u001b[1m3/3\u001b[0m \u001b[32m━━━━━━━━━━━━━━━━━━━━\u001b[0m\u001b[37m\u001b[0m \u001b[1m39s\u001b[0m 14s/step - accuracy: 0.4245 - loss: 0.0539 - val_accuracy: 0.5417 - val_loss: 0.0320 - learning_rate: 1.0000e-06\n",
      "Epoch 35/75\n",
      "\u001b[1m3/3\u001b[0m \u001b[32m━━━━━━━━━━━━━━━━━━━━\u001b[0m\u001b[37m\u001b[0m \u001b[1m0s\u001b[0m 10s/step - accuracy: 0.4045 - loss: 0.0557 \n",
      "Epoch 35: val_accuracy did not improve from 0.54167\n",
      "\u001b[1m3/3\u001b[0m \u001b[32m━━━━━━━━━━━━━━━━━━━━\u001b[0m\u001b[37m\u001b[0m \u001b[1m38s\u001b[0m 14s/step - accuracy: 0.4154 - loss: 0.0556 - val_accuracy: 0.5417 - val_loss: 0.0317 - learning_rate: 1.0000e-06\n",
      "Epoch 36/75\n",
      "\u001b[1m3/3\u001b[0m \u001b[32m━━━━━━━━━━━━━━━━━━━━\u001b[0m\u001b[37m\u001b[0m \u001b[1m0s\u001b[0m 10s/step - accuracy: 0.3924 - loss: 0.0496 \n",
      "Epoch 36: val_accuracy did not improve from 0.54167\n",
      "\u001b[1m3/3\u001b[0m \u001b[32m━━━━━━━━━━━━━━━━━━━━\u001b[0m\u001b[37m\u001b[0m \u001b[1m38s\u001b[0m 14s/step - accuracy: 0.3854 - loss: 0.0496 - val_accuracy: 0.5417 - val_loss: 0.0314 - learning_rate: 1.0000e-06\n",
      "Epoch 37/75\n",
      "\u001b[1m3/3\u001b[0m \u001b[32m━━━━━━━━━━━━━━━━━━━━\u001b[0m\u001b[37m\u001b[0m \u001b[1m0s\u001b[0m 10s/step - accuracy: 0.3003 - loss: 0.0653 \n",
      "Epoch 37: val_accuracy improved from 0.54167 to 0.58333, saving model to vgg19_rice_classifier.h5\n"
     ]
    },
    {
     "name": "stderr",
     "output_type": "stream",
     "text": [
      "WARNING:absl:You are saving your model as an HDF5 file via `model.save()` or `keras.saving.save_model(model)`. This file format is considered legacy. We recommend using instead the native Keras format, e.g. `model.save('my_model.keras')` or `keras.saving.save_model(model, 'my_model.keras')`. \n"
     ]
    },
    {
     "name": "stdout",
     "output_type": "stream",
     "text": [
      "\u001b[1m3/3\u001b[0m \u001b[32m━━━━━━━━━━━━━━━━━━━━\u001b[0m\u001b[37m\u001b[0m \u001b[1m40s\u001b[0m 15s/step - accuracy: 0.3060 - loss: 0.0653 - val_accuracy: 0.5833 - val_loss: 0.0310 - learning_rate: 1.0000e-06\n",
      "Epoch 38/75\n",
      "\u001b[1m3/3\u001b[0m \u001b[32m━━━━━━━━━━━━━━━━━━━━\u001b[0m\u001b[37m\u001b[0m \u001b[1m0s\u001b[0m 10s/step - accuracy: 0.3889 - loss: 0.0511 \n",
      "Epoch 38: val_accuracy did not improve from 0.58333\n",
      "\u001b[1m3/3\u001b[0m \u001b[32m━━━━━━━━━━━━━━━━━━━━\u001b[0m\u001b[37m\u001b[0m \u001b[1m37s\u001b[0m 13s/step - accuracy: 0.3958 - loss: 0.0507 - val_accuracy: 0.5833 - val_loss: 0.0306 - learning_rate: 1.0000e-06\n",
      "Epoch 39/75\n",
      "\u001b[1m3/3\u001b[0m \u001b[32m━━━━━━━━━━━━━━━━━━━━\u001b[0m\u001b[37m\u001b[0m \u001b[1m0s\u001b[0m 10s/step - accuracy: 0.4722 - loss: 0.0449 \n",
      "Epoch 39: val_accuracy did not improve from 0.58333\n",
      "\u001b[1m3/3\u001b[0m \u001b[32m━━━━━━━━━━━━━━━━━━━━\u001b[0m\u001b[37m\u001b[0m \u001b[1m37s\u001b[0m 13s/step - accuracy: 0.4661 - loss: 0.0458 - val_accuracy: 0.5833 - val_loss: 0.0302 - learning_rate: 1.0000e-06\n",
      "Epoch 40/75\n",
      "\u001b[1m3/3\u001b[0m \u001b[32m━━━━━━━━━━━━━━━━━━━━\u001b[0m\u001b[37m\u001b[0m \u001b[1m0s\u001b[0m 9s/step - accuracy: 0.4670 - loss: 0.0485  \n",
      "Epoch 40: val_accuracy did not improve from 0.58333\n",
      "\u001b[1m3/3\u001b[0m \u001b[32m━━━━━━━━━━━━━━━━━━━━\u001b[0m\u001b[37m\u001b[0m \u001b[1m36s\u001b[0m 13s/step - accuracy: 0.4544 - loss: 0.0488 - val_accuracy: 0.5833 - val_loss: 0.0301 - learning_rate: 1.0000e-06\n",
      "Epoch 41/75\n",
      "\u001b[1m3/3\u001b[0m \u001b[32m━━━━━━━━━━━━━━━━━━━━\u001b[0m\u001b[37m\u001b[0m \u001b[1m0s\u001b[0m 10s/step - accuracy: 0.3611 - loss: 0.0545 \n",
      "Epoch 41: val_accuracy did not improve from 0.58333\n",
      "\u001b[1m3/3\u001b[0m \u001b[32m━━━━━━━━━━━━━━━━━━━━\u001b[0m\u001b[37m\u001b[0m \u001b[1m37s\u001b[0m 13s/step - accuracy: 0.3620 - loss: 0.0551 - val_accuracy: 0.5833 - val_loss: 0.0299 - learning_rate: 1.0000e-06\n",
      "Epoch 42/75\n",
      "\u001b[1m3/3\u001b[0m \u001b[32m━━━━━━━━━━━━━━━━━━━━\u001b[0m\u001b[37m\u001b[0m \u001b[1m0s\u001b[0m 9s/step - accuracy: 0.4965 - loss: 0.0511  \n",
      "Epoch 42: val_accuracy did not improve from 0.58333\n",
      "\u001b[1m3/3\u001b[0m \u001b[32m━━━━━━━━━━━━━━━━━━━━\u001b[0m\u001b[37m\u001b[0m \u001b[1m36s\u001b[0m 13s/step - accuracy: 0.4948 - loss: 0.0511 - val_accuracy: 0.5833 - val_loss: 0.0296 - learning_rate: 1.0000e-06\n",
      "Epoch 43/75\n",
      "\u001b[1m3/3\u001b[0m \u001b[32m━━━━━━━━━━━━━━━━━━━━\u001b[0m\u001b[37m\u001b[0m \u001b[1m0s\u001b[0m 10s/step - accuracy: 0.5087 - loss: 0.0522 \n",
      "Epoch 43: val_accuracy did not improve from 0.58333\n",
      "\u001b[1m3/3\u001b[0m \u001b[32m━━━━━━━━━━━━━━━━━━━━\u001b[0m\u001b[37m\u001b[0m \u001b[1m37s\u001b[0m 13s/step - accuracy: 0.5013 - loss: 0.0516 - val_accuracy: 0.5833 - val_loss: 0.0295 - learning_rate: 1.0000e-06\n",
      "Epoch 44/75\n",
      "\u001b[1m3/3\u001b[0m \u001b[32m━━━━━━━━━━━━━━━━━━━━\u001b[0m\u001b[37m\u001b[0m \u001b[1m0s\u001b[0m 10s/step - accuracy: 0.4774 - loss: 0.0556 \n",
      "Epoch 44: val_accuracy did not improve from 0.58333\n",
      "\u001b[1m3/3\u001b[0m \u001b[32m━━━━━━━━━━━━━━━━━━━━\u001b[0m\u001b[37m\u001b[0m \u001b[1m37s\u001b[0m 13s/step - accuracy: 0.4779 - loss: 0.0551 - val_accuracy: 0.5833 - val_loss: 0.0294 - learning_rate: 1.0000e-06\n",
      "Epoch 45/75\n",
      "\u001b[1m3/3\u001b[0m \u001b[32m━━━━━━━━━━━━━━━━━━━━\u001b[0m\u001b[37m\u001b[0m \u001b[1m0s\u001b[0m 10s/step - accuracy: 0.3681 - loss: 0.0557 \n",
      "Epoch 45: val_accuracy did not improve from 0.58333\n",
      "\u001b[1m3/3\u001b[0m \u001b[32m━━━━━━━━━━━━━━━━━━━━\u001b[0m\u001b[37m\u001b[0m \u001b[1m37s\u001b[0m 13s/step - accuracy: 0.3646 - loss: 0.0556 - val_accuracy: 0.5833 - val_loss: 0.0293 - learning_rate: 1.0000e-06\n",
      "Epoch 46/75\n",
      "\u001b[1m3/3\u001b[0m \u001b[32m━━━━━━━━━━━━━━━━━━━━\u001b[0m\u001b[37m\u001b[0m \u001b[1m0s\u001b[0m 12s/step - accuracy: 0.5191 - loss: 0.0429 \n",
      "Epoch 46: val_accuracy improved from 0.58333 to 0.62500, saving model to vgg19_rice_classifier.h5\n"
     ]
    },
    {
     "name": "stderr",
     "output_type": "stream",
     "text": [
      "WARNING:absl:You are saving your model as an HDF5 file via `model.save()` or `keras.saving.save_model(model)`. This file format is considered legacy. We recommend using instead the native Keras format, e.g. `model.save('my_model.keras')` or `keras.saving.save_model(model, 'my_model.keras')`. \n"
     ]
    },
    {
     "name": "stdout",
     "output_type": "stream",
     "text": [
      "\u001b[1m3/3\u001b[0m \u001b[32m━━━━━━━━━━━━━━━━━━━━\u001b[0m\u001b[37m\u001b[0m \u001b[1m45s\u001b[0m 17s/step - accuracy: 0.5169 - loss: 0.0433 - val_accuracy: 0.6250 - val_loss: 0.0292 - learning_rate: 1.0000e-06\n",
      "Epoch 47/75\n",
      "\u001b[1m3/3\u001b[0m \u001b[32m━━━━━━━━━━━━━━━━━━━━\u001b[0m\u001b[37m\u001b[0m \u001b[1m0s\u001b[0m 12s/step - accuracy: 0.4219 - loss: 0.0576 \n",
      "Epoch 47: val_accuracy improved from 0.62500 to 0.66667, saving model to vgg19_rice_classifier.h5\n"
     ]
    },
    {
     "name": "stderr",
     "output_type": "stream",
     "text": [
      "WARNING:absl:You are saving your model as an HDF5 file via `model.save()` or `keras.saving.save_model(model)`. This file format is considered legacy. We recommend using instead the native Keras format, e.g. `model.save('my_model.keras')` or `keras.saving.save_model(model, 'my_model.keras')`. \n"
     ]
    },
    {
     "name": "stdout",
     "output_type": "stream",
     "text": [
      "\u001b[1m3/3\u001b[0m \u001b[32m━━━━━━━━━━━━━━━━━━━━\u001b[0m\u001b[37m\u001b[0m \u001b[1m47s\u001b[0m 17s/step - accuracy: 0.4336 - loss: 0.0567 - val_accuracy: 0.6667 - val_loss: 0.0290 - learning_rate: 1.0000e-06\n",
      "Epoch 48/75\n",
      "\u001b[1m3/3\u001b[0m \u001b[32m━━━━━━━━━━━━━━━━━━━━\u001b[0m\u001b[37m\u001b[0m \u001b[1m0s\u001b[0m 12s/step - accuracy: 0.4323 - loss: 0.0455 \n",
      "Epoch 48: val_accuracy did not improve from 0.66667\n",
      "\u001b[1m3/3\u001b[0m \u001b[32m━━━━━━━━━━━━━━━━━━━━\u001b[0m\u001b[37m\u001b[0m \u001b[1m45s\u001b[0m 16s/step - accuracy: 0.4180 - loss: 0.0468 - val_accuracy: 0.6667 - val_loss: 0.0288 - learning_rate: 1.0000e-06\n",
      "Epoch 49/75\n",
      "\u001b[1m3/3\u001b[0m \u001b[32m━━━━━━━━━━━━━━━━━━━━\u001b[0m\u001b[37m\u001b[0m \u001b[1m0s\u001b[0m 12s/step - accuracy: 0.4392 - loss: 0.0506 \n",
      "Epoch 49: val_accuracy did not improve from 0.66667\n",
      "\u001b[1m3/3\u001b[0m \u001b[32m━━━━━━━━━━━━━━━━━━━━\u001b[0m\u001b[37m\u001b[0m \u001b[1m45s\u001b[0m 16s/step - accuracy: 0.4284 - loss: 0.0509 - val_accuracy: 0.6667 - val_loss: 0.0287 - learning_rate: 1.0000e-06\n",
      "Epoch 50/75\n",
      "\u001b[1m3/3\u001b[0m \u001b[32m━━━━━━━━━━━━━━━━━━━━\u001b[0m\u001b[37m\u001b[0m \u001b[1m0s\u001b[0m 12s/step - accuracy: 0.4479 - loss: 0.0427 \n",
      "Epoch 50: val_accuracy did not improve from 0.66667\n",
      "\u001b[1m3/3\u001b[0m \u001b[32m━━━━━━━━━━━━━━━━━━━━\u001b[0m\u001b[37m\u001b[0m \u001b[1m45s\u001b[0m 16s/step - accuracy: 0.4453 - loss: 0.0432 - val_accuracy: 0.6667 - val_loss: 0.0285 - learning_rate: 1.0000e-06\n",
      "Epoch 51/75\n",
      "\u001b[1m3/3\u001b[0m \u001b[32m━━━━━━━━━━━━━━━━━━━━\u001b[0m\u001b[37m\u001b[0m \u001b[1m0s\u001b[0m 12s/step - accuracy: 0.5278 - loss: 0.0479 \n",
      "Epoch 51: val_accuracy did not improve from 0.66667\n",
      "\u001b[1m3/3\u001b[0m \u001b[32m━━━━━━━━━━━━━━━━━━━━\u001b[0m\u001b[37m\u001b[0m \u001b[1m45s\u001b[0m 16s/step - accuracy: 0.5182 - loss: 0.0483 - val_accuracy: 0.6667 - val_loss: 0.0282 - learning_rate: 1.0000e-06\n",
      "Epoch 52/75\n",
      "\u001b[1m3/3\u001b[0m \u001b[32m━━━━━━━━━━━━━━━━━━━━\u001b[0m\u001b[37m\u001b[0m \u001b[1m0s\u001b[0m 12s/step - accuracy: 0.5434 - loss: 0.0408 \n",
      "Epoch 52: val_accuracy did not improve from 0.66667\n",
      "\u001b[1m3/3\u001b[0m \u001b[32m━━━━━━━━━━━━━━━━━━━━\u001b[0m\u001b[37m\u001b[0m \u001b[1m45s\u001b[0m 16s/step - accuracy: 0.5378 - loss: 0.0410 - val_accuracy: 0.6667 - val_loss: 0.0279 - learning_rate: 1.0000e-06\n",
      "Epoch 53/75\n",
      "\u001b[1m3/3\u001b[0m \u001b[32m━━━━━━━━━━━━━━━━━━━━\u001b[0m\u001b[37m\u001b[0m \u001b[1m0s\u001b[0m 11s/step - accuracy: 0.4826 - loss: 0.0432 \n",
      "Epoch 53: val_accuracy did not improve from 0.66667\n",
      "\u001b[1m3/3\u001b[0m \u001b[32m━━━━━━━━━━━━━━━━━━━━\u001b[0m\u001b[37m\u001b[0m \u001b[1m45s\u001b[0m 16s/step - accuracy: 0.4896 - loss: 0.0429 - val_accuracy: 0.6667 - val_loss: 0.0276 - learning_rate: 1.0000e-06\n",
      "Epoch 54/75\n",
      "\u001b[1m3/3\u001b[0m \u001b[32m━━━━━━━━━━━━━━━━━━━━\u001b[0m\u001b[37m\u001b[0m \u001b[1m0s\u001b[0m 11s/step - accuracy: 0.4392 - loss: 0.0499 \n",
      "Epoch 54: val_accuracy did not improve from 0.66667\n",
      "\u001b[1m3/3\u001b[0m \u001b[32m━━━━━━━━━━━━━━━━━━━━\u001b[0m\u001b[37m\u001b[0m \u001b[1m44s\u001b[0m 16s/step - accuracy: 0.4284 - loss: 0.0507 - val_accuracy: 0.6667 - val_loss: 0.0274 - learning_rate: 1.0000e-06\n",
      "Epoch 55/75\n",
      "\u001b[1m3/3\u001b[0m \u001b[32m━━━━━━━━━━━━━━━━━━━━\u001b[0m\u001b[37m\u001b[0m \u001b[1m0s\u001b[0m 12s/step - accuracy: 0.3438 - loss: 0.0596 \n",
      "Epoch 55: val_accuracy did not improve from 0.66667\n",
      "\u001b[1m3/3\u001b[0m \u001b[32m━━━━━━━━━━━━━━━━━━━━\u001b[0m\u001b[37m\u001b[0m \u001b[1m44s\u001b[0m 16s/step - accuracy: 0.3438 - loss: 0.0604 - val_accuracy: 0.6667 - val_loss: 0.0272 - learning_rate: 1.0000e-06\n",
      "Epoch 56/75\n",
      "\u001b[1m3/3\u001b[0m \u001b[32m━━━━━━━━━━━━━━━━━━━━\u001b[0m\u001b[37m\u001b[0m \u001b[1m0s\u001b[0m 12s/step - accuracy: 0.4184 - loss: 0.0550 \n",
      "Epoch 56: val_accuracy did not improve from 0.66667\n",
      "\u001b[1m3/3\u001b[0m \u001b[32m━━━━━━━━━━━━━━━━━━━━\u001b[0m\u001b[37m\u001b[0m \u001b[1m45s\u001b[0m 16s/step - accuracy: 0.4284 - loss: 0.0537 - val_accuracy: 0.6250 - val_loss: 0.0270 - learning_rate: 1.0000e-06\n",
      "Epoch 57/75\n",
      "\u001b[1m3/3\u001b[0m \u001b[32m━━━━━━━━━━━━━━━━━━━━\u001b[0m\u001b[37m\u001b[0m \u001b[1m0s\u001b[0m 12s/step - accuracy: 0.3750 - loss: 0.0489 \n",
      "Epoch 57: val_accuracy did not improve from 0.66667\n",
      "\u001b[1m3/3\u001b[0m \u001b[32m━━━━━━━━━━━━━━━━━━━━\u001b[0m\u001b[37m\u001b[0m \u001b[1m44s\u001b[0m 16s/step - accuracy: 0.3750 - loss: 0.0497 - val_accuracy: 0.6250 - val_loss: 0.0268 - learning_rate: 1.0000e-06\n",
      "Epoch 58/75\n",
      "\u001b[1m3/3\u001b[0m \u001b[32m━━━━━━━━━━━━━━━━━━━━\u001b[0m\u001b[37m\u001b[0m \u001b[1m0s\u001b[0m 12s/step - accuracy: 0.4774 - loss: 0.0385 \n",
      "Epoch 58: val_accuracy did not improve from 0.66667\n",
      "\u001b[1m3/3\u001b[0m \u001b[32m━━━━━━━━━━━━━━━━━━━━\u001b[0m\u001b[37m\u001b[0m \u001b[1m44s\u001b[0m 16s/step - accuracy: 0.4779 - loss: 0.0394 - val_accuracy: 0.6667 - val_loss: 0.0265 - learning_rate: 1.0000e-06\n",
      "Epoch 59/75\n",
      "\u001b[1m3/3\u001b[0m \u001b[32m━━━━━━━━━━━━━━━━━━━━\u001b[0m\u001b[37m\u001b[0m \u001b[1m0s\u001b[0m 12s/step - accuracy: 0.5000 - loss: 0.0489 \n",
      "Epoch 59: val_accuracy improved from 0.66667 to 0.70833, saving model to vgg19_rice_classifier.h5\n"
     ]
    },
    {
     "name": "stderr",
     "output_type": "stream",
     "text": [
      "WARNING:absl:You are saving your model as an HDF5 file via `model.save()` or `keras.saving.save_model(model)`. This file format is considered legacy. We recommend using instead the native Keras format, e.g. `model.save('my_model.keras')` or `keras.saving.save_model(model, 'my_model.keras')`. \n"
     ]
    },
    {
     "name": "stdout",
     "output_type": "stream",
     "text": [
      "\u001b[1m3/3\u001b[0m \u001b[32m━━━━━━━━━━━━━━━━━━━━\u001b[0m\u001b[37m\u001b[0m \u001b[1m46s\u001b[0m 17s/step - accuracy: 0.4922 - loss: 0.0487 - val_accuracy: 0.7083 - val_loss: 0.0263 - learning_rate: 1.0000e-06\n",
      "Epoch 60/75\n",
      "\u001b[1m3/3\u001b[0m \u001b[32m━━━━━━━━━━━━━━━━━━━━\u001b[0m\u001b[37m\u001b[0m \u001b[1m0s\u001b[0m 12s/step - accuracy: 0.4132 - loss: 0.0530 \n",
      "Epoch 60: val_accuracy did not improve from 0.70833\n",
      "\u001b[1m3/3\u001b[0m \u001b[32m━━━━━━━━━━━━━━━━━━━━\u001b[0m\u001b[37m\u001b[0m \u001b[1m45s\u001b[0m 16s/step - accuracy: 0.4167 - loss: 0.0529 - val_accuracy: 0.7083 - val_loss: 0.0262 - learning_rate: 1.0000e-06\n",
      "Epoch 61/75\n",
      "\u001b[1m3/3\u001b[0m \u001b[32m━━━━━━━━━━━━━━━━━━━━\u001b[0m\u001b[37m\u001b[0m \u001b[1m0s\u001b[0m 12s/step - accuracy: 0.3941 - loss: 0.0555 \n",
      "Epoch 61: val_accuracy did not improve from 0.70833\n",
      "\u001b[1m3/3\u001b[0m \u001b[32m━━━━━━━━━━━━━━━━━━━━\u001b[0m\u001b[37m\u001b[0m \u001b[1m45s\u001b[0m 16s/step - accuracy: 0.3919 - loss: 0.0557 - val_accuracy: 0.7083 - val_loss: 0.0260 - learning_rate: 1.0000e-06\n",
      "Epoch 62/75\n",
      "\u001b[1m3/3\u001b[0m \u001b[32m━━━━━━━━━━━━━━━━━━━━\u001b[0m\u001b[37m\u001b[0m \u001b[1m0s\u001b[0m 12s/step - accuracy: 0.4097 - loss: 0.0437 \n",
      "Epoch 62: val_accuracy did not improve from 0.70833\n",
      "\u001b[1m3/3\u001b[0m \u001b[32m━━━━━━━━━━━━━━━━━━━━\u001b[0m\u001b[37m\u001b[0m \u001b[1m45s\u001b[0m 16s/step - accuracy: 0.4115 - loss: 0.0447 - val_accuracy: 0.7083 - val_loss: 0.0260 - learning_rate: 1.0000e-06\n",
      "Epoch 63/75\n",
      "\u001b[1m3/3\u001b[0m \u001b[32m━━━━━━━━━━━━━━━━━━━━\u001b[0m\u001b[37m\u001b[0m \u001b[1m0s\u001b[0m 12s/step - accuracy: 0.4219 - loss: 0.0498 \n",
      "Epoch 63: val_accuracy did not improve from 0.70833\n",
      "\u001b[1m3/3\u001b[0m \u001b[32m━━━━━━━━━━━━━━━━━━━━\u001b[0m\u001b[37m\u001b[0m \u001b[1m45s\u001b[0m 16s/step - accuracy: 0.4258 - loss: 0.0488 - val_accuracy: 0.7083 - val_loss: 0.0259 - learning_rate: 1.0000e-06\n",
      "Epoch 64/75\n",
      "\u001b[1m3/3\u001b[0m \u001b[32m━━━━━━━━━━━━━━━━━━━━\u001b[0m\u001b[37m\u001b[0m \u001b[1m0s\u001b[0m 12s/step - accuracy: 0.4410 - loss: 0.0459 \n",
      "Epoch 64: val_accuracy did not improve from 0.70833\n",
      "\u001b[1m3/3\u001b[0m \u001b[32m━━━━━━━━━━━━━━━━━━━━\u001b[0m\u001b[37m\u001b[0m \u001b[1m45s\u001b[0m 16s/step - accuracy: 0.4349 - loss: 0.0473 - val_accuracy: 0.7083 - val_loss: 0.0257 - learning_rate: 1.0000e-06\n",
      "Epoch 65/75\n",
      "\u001b[1m3/3\u001b[0m \u001b[32m━━━━━━━━━━━━━━━━━━━━\u001b[0m\u001b[37m\u001b[0m \u001b[1m0s\u001b[0m 12s/step - accuracy: 0.4549 - loss: 0.0419 \n",
      "Epoch 65: val_accuracy did not improve from 0.70833\n",
      "\u001b[1m3/3\u001b[0m \u001b[32m━━━━━━━━━━━━━━━━━━━━\u001b[0m\u001b[37m\u001b[0m \u001b[1m45s\u001b[0m 16s/step - accuracy: 0.4635 - loss: 0.0416 - val_accuracy: 0.7083 - val_loss: 0.0257 - learning_rate: 1.0000e-06\n",
      "Epoch 66/75\n",
      "\u001b[1m3/3\u001b[0m \u001b[32m━━━━━━━━━━━━━━━━━━━━\u001b[0m\u001b[37m\u001b[0m \u001b[1m0s\u001b[0m 12s/step - accuracy: 0.4062 - loss: 0.0463 \n",
      "Epoch 66: val_accuracy did not improve from 0.70833\n",
      "\u001b[1m3/3\u001b[0m \u001b[32m━━━━━━━━━━━━━━━━━━━━\u001b[0m\u001b[37m\u001b[0m \u001b[1m45s\u001b[0m 16s/step - accuracy: 0.4062 - loss: 0.0466 - val_accuracy: 0.7083 - val_loss: 0.0256 - learning_rate: 1.0000e-06\n",
      "Epoch 67/75\n",
      "\u001b[1m3/3\u001b[0m \u001b[32m━━━━━━━━━━━━━━━━━━━━\u001b[0m\u001b[37m\u001b[0m \u001b[1m0s\u001b[0m 12s/step - accuracy: 0.4601 - loss: 0.0393 \n",
      "Epoch 67: val_accuracy did not improve from 0.70833\n",
      "\u001b[1m3/3\u001b[0m \u001b[32m━━━━━━━━━━━━━━━━━━━━\u001b[0m\u001b[37m\u001b[0m \u001b[1m45s\u001b[0m 16s/step - accuracy: 0.4596 - loss: 0.0400 - val_accuracy: 0.7083 - val_loss: 0.0255 - learning_rate: 1.0000e-06\n",
      "Epoch 68/75\n",
      "\u001b[1m3/3\u001b[0m \u001b[32m━━━━━━━━━━━━━━━━━━━━\u001b[0m\u001b[37m\u001b[0m \u001b[1m0s\u001b[0m 12s/step - accuracy: 0.4531 - loss: 0.0432 \n",
      "Epoch 68: val_accuracy did not improve from 0.70833\n",
      "\u001b[1m3/3\u001b[0m \u001b[32m━━━━━━━━━━━━━━━━━━━━\u001b[0m\u001b[37m\u001b[0m \u001b[1m45s\u001b[0m 16s/step - accuracy: 0.4648 - loss: 0.0426 - val_accuracy: 0.7083 - val_loss: 0.0254 - learning_rate: 1.0000e-06\n",
      "Epoch 69/75\n",
      "\u001b[1m3/3\u001b[0m \u001b[32m━━━━━━━━━━━━━━━━━━━━\u001b[0m\u001b[37m\u001b[0m \u001b[1m0s\u001b[0m 12s/step - accuracy: 0.4253 - loss: 0.0469 \n",
      "Epoch 69: val_accuracy did not improve from 0.70833\n",
      "\u001b[1m3/3\u001b[0m \u001b[32m━━━━━━━━━━━━━━━━━━━━\u001b[0m\u001b[37m\u001b[0m \u001b[1m45s\u001b[0m 16s/step - accuracy: 0.4232 - loss: 0.0471 - val_accuracy: 0.7083 - val_loss: 0.0253 - learning_rate: 1.0000e-06\n",
      "Epoch 70/75\n",
      "\u001b[1m3/3\u001b[0m \u001b[32m━━━━━━━━━━━━━━━━━━━━\u001b[0m\u001b[37m\u001b[0m \u001b[1m0s\u001b[0m 12s/step - accuracy: 0.4028 - loss: 0.0470 \n",
      "Epoch 70: val_accuracy did not improve from 0.70833\n",
      "\u001b[1m3/3\u001b[0m \u001b[32m━━━━━━━━━━━━━━━━━━━━\u001b[0m\u001b[37m\u001b[0m \u001b[1m45s\u001b[0m 16s/step - accuracy: 0.3932 - loss: 0.0490 - val_accuracy: 0.7083 - val_loss: 0.0252 - learning_rate: 1.0000e-06\n",
      "Epoch 71/75\n",
      "\u001b[1m3/3\u001b[0m \u001b[32m━━━━━━━━━━━━━━━━━━━━\u001b[0m\u001b[37m\u001b[0m \u001b[1m0s\u001b[0m 12s/step - accuracy: 0.4670 - loss: 0.0473 \n",
      "Epoch 71: val_accuracy did not improve from 0.70833\n",
      "\u001b[1m3/3\u001b[0m \u001b[32m━━━━━━━━━━━━━━━━━━━━\u001b[0m\u001b[37m\u001b[0m \u001b[1m45s\u001b[0m 16s/step - accuracy: 0.4622 - loss: 0.0474 - val_accuracy: 0.7083 - val_loss: 0.0252 - learning_rate: 1.0000e-06\n",
      "Epoch 72/75\n",
      "\u001b[1m3/3\u001b[0m \u001b[32m━━━━━━━━━━━━━━━━━━━━\u001b[0m\u001b[37m\u001b[0m \u001b[1m0s\u001b[0m 12s/step - accuracy: 0.3889 - loss: 0.0480 \n",
      "Epoch 72: val_accuracy did not improve from 0.70833\n",
      "\u001b[1m3/3\u001b[0m \u001b[32m━━━━━━━━━━━━━━━━━━━━\u001b[0m\u001b[37m\u001b[0m \u001b[1m45s\u001b[0m 16s/step - accuracy: 0.3880 - loss: 0.0474 - val_accuracy: 0.7083 - val_loss: 0.0251 - learning_rate: 1.0000e-06\n",
      "Epoch 73/75\n",
      "\u001b[1m3/3\u001b[0m \u001b[32m━━━━━━━━━━━━━━━━━━━━\u001b[0m\u001b[37m\u001b[0m \u001b[1m0s\u001b[0m 12s/step - accuracy: 0.5451 - loss: 0.0441 \n",
      "Epoch 73: val_accuracy did not improve from 0.70833\n",
      "\u001b[1m3/3\u001b[0m \u001b[32m━━━━━━━━━━━━━━━━━━━━\u001b[0m\u001b[37m\u001b[0m \u001b[1m45s\u001b[0m 16s/step - accuracy: 0.5521 - loss: 0.0431 - val_accuracy: 0.7083 - val_loss: 0.0248 - learning_rate: 1.0000e-06\n",
      "Epoch 74/75\n",
      "\u001b[1m3/3\u001b[0m \u001b[32m━━━━━━━━━━━━━━━━━━━━\u001b[0m\u001b[37m\u001b[0m \u001b[1m0s\u001b[0m 12s/step - accuracy: 0.4306 - loss: 0.0496 \n",
      "Epoch 74: val_accuracy did not improve from 0.70833\n",
      "\u001b[1m3/3\u001b[0m \u001b[32m━━━━━━━━━━━━━━━━━━━━\u001b[0m\u001b[37m\u001b[0m \u001b[1m45s\u001b[0m 16s/step - accuracy: 0.4349 - loss: 0.0497 - val_accuracy: 0.7083 - val_loss: 0.0248 - learning_rate: 1.0000e-06\n",
      "Epoch 75/75\n",
      "\u001b[1m3/3\u001b[0m \u001b[32m━━━━━━━━━━━━━━━━━━━━\u001b[0m\u001b[37m\u001b[0m \u001b[1m0s\u001b[0m 12s/step - accuracy: 0.3802 - loss: 0.0530 \n",
      "Epoch 75: val_accuracy did not improve from 0.70833\n",
      "\u001b[1m3/3\u001b[0m \u001b[32m━━━━━━━━━━━━━━━━━━━━\u001b[0m\u001b[37m\u001b[0m \u001b[1m45s\u001b[0m 16s/step - accuracy: 0.3867 - loss: 0.0533 - val_accuracy: 0.7083 - val_loss: 0.0246 - learning_rate: 1.0000e-06\n"
     ]
    }
   ],
   "source": [
    "\n",
    "history = model.fit(\n",
    "    train_datagen.flow(X_train, y_train, batch_size=batch_size),\n",
    "    steps_per_epoch=len(X_train) // batch_size,\n",
    "    epochs=75,\n",
    "    validation_data=(X_test, y_test),\n",
    "    callbacks=[checkpoint, reduce_lr]\n",
    ")"
   ]
  },
  {
   "cell_type": "markdown",
   "id": "f0df4c0b-b4b8-424b-9e30-2bbff2ef8cf2",
   "metadata": {},
   "source": [
    "# Evaluate the model"
   ]
  },
  {
   "cell_type": "code",
   "execution_count": 18,
   "id": "e91cf987-c006-4cdb-9eef-b5347ea32173",
   "metadata": {},
   "outputs": [
    {
     "data": {
      "image/png": "[encoded data removed]",
      "text/plain": [
       "<Figure size 1000x400 with 2 Axes>"
      ]
     },
     "metadata": {},
     "output_type": "display_data"
    }
   ],
   "source": [
    "plt.figure(figsize=(10, 4))\n",
    "\n",
    "# Accuracy Plot\n",
    "plt.subplot(1,2,1)\n",
    "plt.plot(history.history['accuracy'], label='Train Accuracy')\n",
    "plt.plot(history.history['val_accuracy'], label='Validation Accuracy')\n",
    "plt.legend()\n",
    "plt.title(\"Model Accuracy\")\n",
    "\n",
    "# Loss Plot\n",
    "plt.subplot(1,2,2)\n",
    "plt.plot(history.history['loss'], label='Train Loss')\n",
    "plt.plot(history.history['val_loss'], label='Validation Loss')\n",
    "plt.legend()\n",
    "plt.title(\"Model Loss\")\n",
    "\n",
    "plt.show()"
   ]
  },
  {
   "cell_type": "code",
   "execution_count": null,
   "id": "06821354-3788-4b6a-a9bc-1488631b7e63",
   "metadata": {},
   "outputs": [],
   "source": []
  },
  {
   "cell_type": "code",
   "execution_count": 19,
   "id": "3ab45014-5f69-4bcb-9cce-7b6fb8cfdb14",
   "metadata": {},
   "outputs": [
    {
     "name": "stderr",
     "output_type": "stream",
     "text": [
      "WARNING:absl:Compiled the loaded model, but the compiled metrics have yet to be built. `model.compile_metrics` will be empty until you train or evaluate the model.\n"
     ]
    }
   ],
   "source": [
    "import tensorflow.keras.backend as K\n",
    "from tensorflow.keras.models import load_model\n",
    "\n",
    "\n",
    "def focal_loss(alpha=0.25, gamma=2.0):\n",
    "    def loss(y_true, y_pred):\n",
    "        y_pred = K.clip(y_pred, 1e-7, 1 - 1e-7)  # Prevent log(0) errors\n",
    "        ce = -y_true * K.log(y_pred)  # Cross-entropy loss\n",
    "        weight = alpha * K.pow(1 - y_pred, gamma)  # Focusing factor\n",
    "        return K.mean(weight * ce)  \n",
    "    return loss\n",
    "\n",
    "\n",
    "custom_objects = {\"loss\": focal_loss(alpha=0.25, gamma=2.0)}\n",
    "model = load_model(\"vgg19_rice_classifier.h5\", custom_objects=custom_objects)"
   ]
  },
  {
   "cell_type": "code",
   "execution_count": 20,
   "id": "1208b19a-6c2e-405e-8ca4-85388a301916",
   "metadata": {},
   "outputs": [
    {
     "name": "stdout",
     "output_type": "stream",
     "text": [
      "\u001b[1m1/1\u001b[0m \u001b[32m━━━━━━━━━━━━━━━━━━━━\u001b[0m\u001b[37m\u001b[0m \u001b[1m10s\u001b[0m 10s/step - accuracy: 0.7083 - loss: 0.0263\n",
      "Test accuracy: 0.71\n"
     ]
    }
   ],
   "source": [
    "loss, accuracy = model.evaluate(X_test, y_test)\n",
    "print(f'Test accuracy: {accuracy:.2f}')"
   ]
  },
  {
   "cell_type": "code",
   "execution_count": 21,
   "id": "73fbf259-4618-4b5f-adaa-80951a2ecf8b",
   "metadata": {},
   "outputs": [
    {
     "name": "stdout",
     "output_type": "stream",
     "text": [
      "\u001b[1m1/1\u001b[0m \u001b[32m━━━━━━━━━━━━━━━━━━━━\u001b[0m\u001b[37m\u001b[0m \u001b[1m8s\u001b[0m 8s/step\n"
     ]
    },
    {
     "data": {
      "image/png": "[encoded data removed]",
      "text/plain": [
       "<Figure size 800x600 with 2 Axes>"
      ]
     },
     "metadata": {},
     "output_type": "display_data"
    }
   ],
   "source": [
    "\n",
    "from sklearn.metrics import confusion_matrix\n",
    "# from tensorflow.keras.models import load_mode\n",
    "y_pred = model.predict(X_test)\n",
    "y_pred_classes = np.argmax(y_pred, axis=1)\n",
    "y_true_classes = np.argmax(y_test, axis=1)\n",
    "\n",
    "\n",
    "conf_matrix = confusion_matrix(y_true_classes, y_pred_classes)\n",
    "\n",
    "\n",
    "plt.figure(figsize=(8, 6))\n",
    "sns.heatmap(conf_matrix, annot=True, fmt='d', cmap='Blues', \n",
    "            xticklabels=['Class 0', 'Class 1', 'Class 2'], \n",
    "            yticklabels=['Class 0', 'Class 1', 'Class 2'])\n",
    "plt.xlabel('Predicted Labels')\n",
    "plt.ylabel('True Labels')\n",
    "plt.title('Confusion Matrix')\n",
    "plt.show()"
   ]
  },
  {
   "cell_type": "code",
   "execution_count": 22,
   "id": "1c581635-31dd-4bb2-8e3c-f0a71ed339a4",
   "metadata": {},
   "outputs": [
    {
     "name": "stdout",
     "output_type": "stream",
     "text": [
      "\u001b[1m1/1\u001b[0m \u001b[32m━━━━━━━━━━━━━━━━━━━━\u001b[0m\u001b[37m\u001b[0m \u001b[1m8s\u001b[0m 8s/step\n",
      "              precision    recall  f1-score   support\n",
      "\n",
      "     Class 0       0.88      0.88      0.88         8\n",
      "     Class 1       0.86      0.60      0.71        10\n",
      "     Class 2       0.44      0.67      0.53         6\n",
      "\n",
      "    accuracy                           0.71        24\n",
      "   macro avg       0.73      0.71      0.70        24\n",
      "weighted avg       0.76      0.71      0.72        24\n",
      "\n"
     ]
    }
   ],
   "source": [
    "from sklearn.metrics import classification_report\n",
    "\n",
    "y_pred = model.predict(X_test)\n",
    "y_pred_classes = np.argmax(y_pred, axis=1)\n",
    "y_true_classes = np.argmax(y_test, axis=1)\n",
    "\n",
    "report = classification_report(y_true_classes, y_pred_classes, target_names=['Class 0', 'Class 1', 'Class 2'])\n",
    "print(report)"
   ]
  },
  {
   "cell_type": "markdown",
   "id": "3b760cc5-06af-4e4d-84a1-00d0933178e5",
   "metadata": {},
   "source": [
    "# Save the model"
   ]
  },
  {
   "cell_type": "code",
   "execution_count": 33,
   "id": "f544ca70-4732-4b62-853b-6a991ee9f868",
   "metadata": {},
   "outputs": [],
   "source": [
    "model.save('vgg19_rice_classifier.h5')"
   ]
  }
 ],
 "metadata": {
  "kernelspec": {
   "display_name": "Python 3 (ipykernel)",
   "language": "python",
   "name": "python3"
  },
  "language_info": {
   "codemirror_mode": {
    "name": "ipython",
    "version": 3
   },
   "file_extension": ".py",
   "mimetype": "text/x-python",
   "name": "python",
   "nbconvert_exporter": "python",
   "pygments_lexer": "ipython3",
   "version": "3.11.11"
  }
 },
 "nbformat": 4,
 "nbformat_minor": 5
}
